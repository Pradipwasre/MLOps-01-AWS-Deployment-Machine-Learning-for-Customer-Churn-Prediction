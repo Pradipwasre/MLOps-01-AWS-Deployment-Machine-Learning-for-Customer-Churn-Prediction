{
  "cells": [
    {
      "cell_type": "markdown",
      "metadata": {},
      "source": [
        "## Problem statement :\n",
        "\n",
        "Bank XYZ has been observing a lot of customers closing their accounts or switching to competitor banks over the past couple of quarters. As such, this has caused a huge dent in the quarterly revenues and might drastically affect annual revenues for the ongoing financial year, causing stocks to plunge and market cap to reduce by X %. A team of business, product, engineering and data science folks have been put together to arrest this slide. \n",
        "\n",
        "__Objective__ : Can we build a model to predict, with a reasonable accuracy, the customers who are going to churn in the near future? Being able to accurately estimate when they are going to churn will be an added bonus\n",
        "\n",
        "__Definition of churn__ : A customer having closed all their active accounts with the bank is said to have churned. Churn can be defined in other ways as well, based on the context of the problem. A customer not transacting for 6 months or 1 year can also be defined as to have churned, based on the business requirements "
      ]
    },
    {
      "cell_type": "markdown",
      "metadata": {},
      "source": [
        "__From a Biz team/Product Manager's perspective :__  \n",
        "\n",
        "(1) Business goal : Arrest slide in revenues or loss of active bank customers\n",
        "\n",
        "(2) Identify data source : Transactional systems, event-based logs, Data warehouse (MySQL DBs, Redshift/AWS), Data Lakes, NoSQL DBs\n",
        "\n",
        "(3) Audit for data quality : De-duplication of events/transactions, Complete or partial absence of data for chunks of time in between, Obscuring PII (personal identifiable information) data \n",
        "\n",
        "(4) Define business and data-related metrics : Tracking of these metrics over time, probably through some intuitive visualizations\n",
        "    \n",
        "    (i) Business metrics : Churn rate (month-on-month, weekly/quarterly), Trend of avg. number of products per customer, \n",
        "        %age of dormant customers, Other such descriptive metrics\n",
        "    \n",
        "    (ii) Data-related metrics : F1-score, Recall, Precision\n",
        "         Recall = TP/(TP + FN) \n",
        "         Precision = TP/(TP + FP)\n",
        "         F1-score = Harmonic mean of Recall and Precision\n",
        "         where, TP = True Positive, FP = False Positive and FN = False Negative\n",
        "\n",
        "(5) Prediction model output format : Since this is not going to be an online model, it doesn't require deployment. Instead, periodic (monthly/quarterly) model runs could be made and the list of customers, along with their propensity to churn shared with the business (Sales/Marketing) or Product team\n",
        "\n",
        "(6) Action to be taken based on model's output/insights : Based on the output obtained from Data Science team as above, various business interventions can be made to save the customer from getting churned. Customer-centric bank offers, getting in touch with customers to address grievances etc. Here, also Data Science team can help with basic EDA to highlight different customer groups/segments and the appropriate intervention to be applied against them"
      ]
    },
    {
      "cell_type": "markdown",
      "metadata": {},
      "source": [
        "__Collaboration with Engineering and DevOps :__  \n",
        "\n",
        "(1) Application deployment on production servers (In the context of this problem statement, not required)\n",
        "\n",
        "(2) [DevOps] Monitoring the scale aspects of model performance over time (Again, not required, in this case)"
      ]
    },
    {
      "cell_type": "markdown",
      "metadata": {},
      "source": [
        "### How to set the target/goal for the metrics?\n",
        "\n",
        "* Data science-related metrics :\n",
        "    - Recall : >70%\n",
        "    - Precision : >70%\n",
        "    - F1-score : >70%\n",
        "\n",
        "\n",
        "* Business metrics : Usually, it's top down. But a good practice is to consider it to make atleast half the impact of the data science metric. For e.g., If we take Recall target as __70%__ which means correctly identifying 70% of customers who's going to churn in the near future, we can expect that due to business intervention (offers, getting in touch with customers etc.), 50% of the customers can be saved from being churned, which means atleast a __35%__ improvement in Churn Rate"
      ]
    },
    {
      "cell_type": "markdown",
      "metadata": {},
      "source": [
        "# Show me the code"
      ]
    },
    {
      "cell_type": "code",
      "execution_count": null,
      "metadata": {},
      "outputs": [],
      "source": []
    }
  ],
  "metadata": {
    "colab": {
      "provenance": [],
      "toc_visible": true
    },
    "kernelspec": {
      "display_name": "Python 3",
      "name": "python3"
    },
    "language_info": {
      "codemirror_mode": {
        "name": "ipython",
        "version": 3
      },
      "file_extension": ".py",
      "mimetype": "text/x-python",
      "name": "python",
      "nbconvert_exporter": "python",
      "pygments_lexer": "ipython3",
      "version": "3.12.1"
    }
  },
  "nbformat": 4,
  "nbformat_minor": 0
}
